{
 "cells": [
  {
   "cell_type": "code",
   "execution_count": 12,
   "metadata": {},
   "outputs": [
    {
     "name": "stdout",
     "output_type": "stream",
     "text": [
      "Masukkan batas deret fibonanci: 7\n",
      "Bilangan ke  1 : 0\n",
      "Bilangan ke  2 : 1\n",
      "Bilangan ke  3 : 1\n",
      "Bilangan ke  4 : 2\n",
      "Bilangan ke  5 : 3\n",
      "Bilangan ke  6 : 5\n",
      "Bilangan ke  7 : 8\n"
     ]
    }
   ],
   "source": [
    "class Myfibo:\n",
    "    def __init__(self, b):\n",
    "        self.batas = b\n",
    "   \n",
    "    def hsl(self):\n",
    "        def fibo(n):\n",
    "            if n == 1:\n",
    "                return 0\n",
    "            elif n == 2:\n",
    "                return 1\n",
    "            elif n > 2:\n",
    "                return fibo(n-1) + fibo(n-2)\n",
    "        for n in range(1,self.batas+1):\n",
    "            print(\"Bilangan ke \", n, \":\", fibo(n))\n",
    "            \n",
    "x = int(input(\"Masukkan batas deret fibonanci: \"))\n",
    "y = Myfibo(x)\n",
    "y.hsl()"
   ]
  }
 ],
 "metadata": {
  "kernelspec": {
   "display_name": "Python 3",
   "language": "python",
   "name": "python3"
  },
  "language_info": {
   "codemirror_mode": {
    "name": "ipython",
    "version": 3
   },
   "file_extension": ".py",
   "mimetype": "text/x-python",
   "name": "python",
   "nbconvert_exporter": "python",
   "pygments_lexer": "ipython3",
   "version": "3.7.4"
  }
 },
 "nbformat": 4,
 "nbformat_minor": 2
}
